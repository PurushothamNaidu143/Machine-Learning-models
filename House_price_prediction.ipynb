{
  "cells": [
    {
      "cell_type": "markdown",
      "metadata": {
        "id": "view-in-github",
        "colab_type": "text"
      },
      "source": [
        "<a href=\"https://colab.research.google.com/github/PurushothamNaidu143/Machine-Learning-models/blob/main/House_price_prediction.ipynb\" target=\"_parent\"><img src=\"https://colab.research.google.com/assets/colab-badge.svg\" alt=\"Open In Colab\"/></a>"
      ]
    },
    {
      "cell_type": "code",
      "execution_count": null,
      "metadata": {
        "id": "xiSlNqg__tjv"
      },
      "outputs": [],
      "source": [
        "from google.colab import drive\n",
        "drive.mount('/content/drive')"
      ]
    },
    {
      "cell_type": "code",
      "execution_count": null,
      "metadata": {
        "colab": {
          "background_save": true
        },
        "id": "BEzoHjcbBLen"
      },
      "outputs": [],
      "source": [
        "import pandas as pd\n",
        "import numpy as np\n",
        "import matplotlib.pyplot as plt\n",
        "import seaborn as sns\n",
        "from sklearn.model_selection import train_test_split\n",
        "from sklearn.metrics import r2_score,mean_squared_error\n",
        "from sklearn.preprocessing import StandardScaler\n",
        "from sklearn.linear_model import LinearRegression"
      ]
    },
    {
      "cell_type": "code",
      "execution_count": null,
      "metadata": {
        "colab": {
          "background_save": true
        },
        "id": "mIxZAMwcBzhs"
      },
      "outputs": [],
      "source": [
        "dataset=pd.read_csv(\"/content/drive/MyDrive/Housing.csv\")\n",
        "dataset"
      ]
    },
    {
      "cell_type": "code",
      "execution_count": null,
      "metadata": {
        "colab": {
          "background_save": true
        },
        "id": "6quIyQewCGT8"
      },
      "outputs": [],
      "source": [
        "dataset.info()"
      ]
    },
    {
      "cell_type": "code",
      "execution_count": null,
      "metadata": {
        "colab": {
          "background_save": true
        },
        "id": "i6WXV9BuCOT9"
      },
      "outputs": [],
      "source": [
        "dataset.isnull().sum()"
      ]
    },
    {
      "cell_type": "code",
      "execution_count": null,
      "metadata": {
        "colab": {
          "background_save": true
        },
        "id": "I48-bS33CXXE"
      },
      "outputs": [],
      "source": [
        "print(dataset[\"mainroad\"].value_counts())\n",
        "\n",
        "print(dataset[\"guestroom\"].value_counts())\n",
        "\n",
        "print(dataset[\"basement\"].value_counts())\n",
        "\n",
        "print(dataset[\"hotwaterheating\"].value_counts())\n",
        "\n",
        "print(dataset[\"airconditioning\"].value_counts())\n",
        "\n",
        "print(dataset[\"furnishingstatus\"].value_counts())\n",
        "\n",
        "print(dataset[\"prefarea\"].value_counts())"
      ]
    },
    {
      "cell_type": "code",
      "execution_count": null,
      "metadata": {
        "colab": {
          "background_save": true
        },
        "id": "KvroNtUpDITZ"
      },
      "outputs": [],
      "source": [
        "dataset.replace({\"mainroad\":{\"yes\":1,\"no\":2}},inplace=True)"
      ]
    },
    {
      "cell_type": "code",
      "execution_count": null,
      "metadata": {
        "colab": {
          "background_save": true
        },
        "id": "Nbg8zcv6DfmJ"
      },
      "outputs": [],
      "source": [
        "dataset.replace({\"guestroom\":{\"yes\":1,\"no\":2}},inplace=True)"
      ]
    },
    {
      "cell_type": "code",
      "execution_count": null,
      "metadata": {
        "colab": {
          "background_save": true
        },
        "id": "N1-h3v4KDidx"
      },
      "outputs": [],
      "source": [
        "dataset.replace({\"basement\":{\"yes\":1,\"no\":2}},inplace=True)"
      ]
    },
    {
      "cell_type": "code",
      "execution_count": null,
      "metadata": {
        "colab": {
          "background_save": true
        },
        "id": "xfSeGCfUDmAy"
      },
      "outputs": [],
      "source": [
        "dataset.replace({\"hotwaterheating\":{\"yes\":1,\"no\":2}},inplace=True)"
      ]
    },
    {
      "cell_type": "code",
      "execution_count": null,
      "metadata": {
        "colab": {
          "background_save": true
        },
        "id": "eE0vhDfdDpiZ"
      },
      "outputs": [],
      "source": [
        "dataset.replace({\"airconditioning\":{\"yes\":1,\"no\":2}},inplace=True)"
      ]
    },
    {
      "cell_type": "code",
      "execution_count": null,
      "metadata": {
        "colab": {
          "background_save": true
        },
        "id": "bVzntTXgEvMB"
      },
      "outputs": [],
      "source": [
        "dataset.replace({\"furnishingstatus\":{\"furnished\":2,\"semi-furnished\":1,\"unfurnished\":0}},inplace=True)"
      ]
    },
    {
      "cell_type": "code",
      "execution_count": null,
      "metadata": {
        "colab": {
          "background_save": true
        },
        "id": "czY-R_tjE-qo"
      },
      "outputs": [],
      "source": [
        "dataset.replace({\"prefarea\":{\"yes\":1,\"no\":2}},inplace=True)"
      ]
    },
    {
      "cell_type": "code",
      "execution_count": null,
      "metadata": {
        "colab": {
          "background_save": true
        },
        "id": "w7pUcy9oFRCX"
      },
      "outputs": [],
      "source": [
        "dataset"
      ]
    },
    {
      "cell_type": "code",
      "execution_count": null,
      "metadata": {
        "colab": {
          "background_save": true
        },
        "id": "SCB_A7kAD43K"
      },
      "outputs": [],
      "source": [
        "x=dataset.drop([\"price\"],axis=1)\n",
        "x"
      ]
    },
    {
      "cell_type": "code",
      "execution_count": null,
      "metadata": {
        "colab": {
          "background_save": true
        },
        "id": "vVklbTmHFe0-"
      },
      "outputs": [],
      "source": [
        "y=dataset[\"price\"]\n",
        "y"
      ]
    },
    {
      "cell_type": "code",
      "execution_count": null,
      "metadata": {
        "colab": {
          "background_save": true
        },
        "id": "SNuJzP4iFmf-"
      },
      "outputs": [],
      "source": [
        "x_train,x_test,y_train,y_test=train_test_split(x,y,test_size=0.30,random_state=42)"
      ]
    },
    {
      "cell_type": "code",
      "execution_count": null,
      "metadata": {
        "colab": {
          "background_save": true
        },
        "id": "NCxc4SreF-dz"
      },
      "outputs": [],
      "source": [
        "scaler=StandardScaler()\n",
        "x_train=scaler.fit_transform(x_train)\n",
        "x_test=scaler.transform(x_test)\n",
        "x_train"
      ]
    },
    {
      "cell_type": "code",
      "execution_count": null,
      "metadata": {
        "colab": {
          "background_save": true
        },
        "id": "apTZP7yaHVUN"
      },
      "outputs": [],
      "source": [
        "model1=LinearRegression()\n",
        "model1.fit(x_train,y_train)"
      ]
    },
    {
      "cell_type": "code",
      "execution_count": null,
      "metadata": {
        "colab": {
          "background_save": true
        },
        "id": "35Cd8jtWPD5K"
      },
      "outputs": [],
      "source": [
        "y_test"
      ]
    },
    {
      "cell_type": "code",
      "execution_count": null,
      "metadata": {
        "colab": {
          "background_save": true
        },
        "id": "EVAtpEY-HfLb"
      },
      "outputs": [],
      "source": [
        "y_pred=model1.predict(x_test)\n",
        "y_pred"
      ]
    },
    {
      "cell_type": "code",
      "execution_count": null,
      "metadata": {
        "colab": {
          "background_save": true
        },
        "id": "gllobet6HoCp"
      },
      "outputs": [],
      "source": [
        "sns.displot(y_pred-y_test,kind=\"kde\")"
      ]
    },
    {
      "cell_type": "code",
      "execution_count": null,
      "metadata": {
        "colab": {
          "background_save": true
        },
        "id": "HN6JdovyH1Wq"
      },
      "outputs": [],
      "source": [
        "r2_score_value=r2_score(y_test,y_pred)\n",
        "r2_score_value"
      ]
    },
    {
      "cell_type": "code",
      "execution_count": null,
      "metadata": {
        "colab": {
          "background_save": true
        },
        "id": "B6HQN8RPPtSx"
      },
      "outputs": [],
      "source": [
        "residuals = y_test - y_pred\n",
        "sns.scatterplot(x=y_pred, y=residuals, color='blue')\n",
        "plt.axhline(y=0, color='red', linestyle='--', linewidth=2)\n",
        "plt.title('Residual Plot')\n",
        "plt.xlabel('Predicted Values')\n",
        "plt.ylabel('Residuals')\n",
        "plt.show()"
      ]
    },
    {
      "cell_type": "code",
      "execution_count": null,
      "metadata": {
        "colab": {
          "background_save": true
        },
        "id": "RGFMexe9TlyQ"
      },
      "outputs": [],
      "source": [
        "model2x=dataset.drop([\"price\",\"prefarea\",\"furnishingstatus\"],axis=1)\n",
        "model2y=dataset[\"price\"]\n",
        "model2x_train,model2x_test,model2y_train,model2y_test=train_test_split(model2x,model2y,test_size=0.30,random_state=42)\n",
        "scaler=StandardScaler()\n",
        "model2x_train=scaler.fit_transform(model2x_train)\n",
        "model2x_test=scaler.transform(model2x_test)\n",
        "model2=LinearRegression()\n",
        "model2.fit(model2x_train,model2y_train)\n",
        "model2y_pred=model2.predict(model2x_test)\n",
        "sns.displot(model2y_pred-model2y_test,kind=\"kde\")\n"
      ]
    },
    {
      "cell_type": "code",
      "execution_count": null,
      "metadata": {
        "colab": {
          "background_save": true
        },
        "id": "tF4BURcoWblN"
      },
      "outputs": [],
      "source": [
        "r2_score_value=r2_score(model2y_test,model2y_pred)\n",
        "print(\"r2 score of this model is: \",r2_score_value)\n",
        "model2residuals = model2y_test - model2y_pred\n",
        "sns.scatterplot(x=model2y_pred, y=model2residuals, color='blue')\n",
        "plt.axhline(y=0, color='red', linestyle='--', linewidth=2)\n",
        "plt.title('Residual Plot')\n",
        "plt.xlabel('Predicted Values')\n",
        "plt.ylabel('Residuals')\n",
        "plt.show()"
      ]
    },
    {
      "cell_type": "markdown",
      "metadata": {
        "id": "FDOVRbJ_V7ey"
      },
      "source": [
        "**Model 1 with r2_score 64 is better when comared to model 2 with r2_score 60**"
      ]
    }
  ],
  "metadata": {
    "colab": {
      "provenance": [],
      "mount_file_id": "1XP7X_L2RTFivmdLL5LRrBJalU4xJ8dpT",
      "authorship_tag": "ABX9TyPwdTqBAFPnt2F8rD2rDSPL",
      "include_colab_link": true
    },
    "kernelspec": {
      "display_name": "Python 3",
      "name": "python3"
    },
    "language_info": {
      "name": "python"
    }
  },
  "nbformat": 4,
  "nbformat_minor": 0
}